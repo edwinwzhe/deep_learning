{
 "cells": [
  {
   "cell_type": "code",
   "execution_count": 1,
   "metadata": {},
   "outputs": [
    {
     "name": "stderr",
     "output_type": "stream",
     "text": [
      "Using TensorFlow backend.\n"
     ]
    }
   ],
   "source": [
    "import pickle\n",
    "import numpy as np\n",
    "import matplotlib.pyplot as plt\n",
    "from sklearn.model_selection import train_test_split\n",
    "from keras.utils.np_utils import to_categorical\n",
    "\n",
    "#%matplotlib inline\n",
    "\n",
    "def unpickle(file):\n",
    "    import pickle\n",
    "    with open(file, 'rb') as fo:\n",
    "        dict = pickle.load(fo, encoding='bytes')\n",
    "    return dict\n",
    "\n",
    "def reshape_and_normalize(data):\n",
    "    data = data.reshape([-1, 1024, 3], order='F')\n",
    "    data = data.reshape([-1, 32, 32, 3], order='C') \n",
    "    data = data / 255\n",
    "    return data\n",
    "    "
   ]
  },
  {
   "cell_type": "code",
   "execution_count": 2,
   "metadata": {},
   "outputs": [
    {
     "name": "stdout",
     "output_type": "stream",
     "text": [
      "Training   set: (37500, 32, 32, 3)\n",
      "Validation set: (12500, 32, 32, 3)\n",
      "Test       set: (10000, 32, 32, 3)\n"
     ]
    }
   ],
   "source": [
    "# Data downloaded from - https://www.cs.toronto.edu/~kriz/cifar.html\n",
    "\n",
    "\n",
    "# Load Train data\n",
    "data = unpickle('data/data_batch_1')\n",
    "train_X = data[b'data']\n",
    "train_y = data[b'labels']\n",
    "\n",
    "for i in range (2, 6):\n",
    "    data = unpickle('data/data_batch_{:s}'.format(str(i)))\n",
    "    train_X = np.concatenate((train_X, data[b'data']), axis=0) \n",
    "    train_y = np.concatenate((train_y, data[b'labels']), axis=0) \n",
    "    \n",
    "train_X = reshape_and_normalize(train_X)\n",
    "train_y = to_categorical(train_y, num_classes=10)\n",
    "\n",
    "# Create validation set\n",
    "train_X, valid_X, train_y, valid_y = train_test_split(train_X, train_y, test_size = 0.25, random_state=1)\n",
    "\n",
    "\n",
    "# Load Test data\n",
    "data = unpickle('data/test_batch')\n",
    "test_X = data[b'data']\n",
    "test_y = data[b'labels']\n",
    "\n",
    "test_X = reshape_and_normalize(test_X)\n",
    "test_y = to_categorical(test_y, num_classes=10)\n",
    "    \n",
    "meta = unpickle('data/batches.meta')\n",
    "classes = [l.decode('ascii') for l in meta[b'label_names']]\n",
    "\n",
    "\n",
    "print('Training   set: {}'.format(train_X.shape))\n",
    "print('Validation set: {}'.format(valid_X.shape))\n",
    "print('Test       set: {}'.format(test_X.shape))"
   ]
  },
  {
   "cell_type": "code",
   "execution_count": 3,
   "metadata": {
    "collapsed": true
   },
   "outputs": [],
   "source": [
    "### Peaking at the cifar10 images\n",
    "\n",
    "plt.figure(figsize=(10, 10))\n",
    "\n",
    "for i in range(9):\n",
    "    plt.subplot(331 + i)\n",
    "    plt.title(classes[train_y[i].argmax()])\n",
    "    plt.imshow(train_X[i]);"
   ]
  },
  {
   "cell_type": "code",
   "execution_count": 4,
   "metadata": {
    "collapsed": true
   },
   "outputs": [],
   "source": [
    "# Image Augmentation\n",
    "from keras.preprocessing.image import ImageDataGenerator\n",
    "\n",
    "datagen = ImageDataGenerator(\n",
    "    #featurewise_center=True,\n",
    "    #featurewise_std_normalization=True,\n",
    "    #shear_range=0.5\n",
    "    #rotation_range=10,\n",
    "    #zoom_range=0.2,\n",
    "    #width_shift_range=0.5,\n",
    "    #height_shift_range=0.5,\n",
    "    #horizontal_flip=True,\n",
    "    #vertical_flip=True\n",
    ")\n",
    "\n",
    "datagen.fit(train_X)"
   ]
  },
  {
   "cell_type": "code",
   "execution_count": 5,
   "metadata": {},
   "outputs": [
    {
     "name": "stdout",
     "output_type": "stream",
     "text": [
      "_________________________________________________________________\n",
      "Layer (type)                 Output Shape              Param #   \n",
      "=================================================================\n",
      "input_1 (InputLayer)         (None, 32, 32, 3)         0         \n",
      "_________________________________________________________________\n",
      "conv2d_1 (Conv2D)            (None, 32, 32, 32)        896       \n",
      "_________________________________________________________________\n",
      "conv2d_2 (Conv2D)            (None, 32, 32, 32)        9248      \n",
      "_________________________________________________________________\n",
      "max_pooling2d_1 (MaxPooling2 (None, 16, 16, 32)        0         \n",
      "_________________________________________________________________\n",
      "dropout_1 (Dropout)          (None, 16, 16, 32)        0         \n",
      "_________________________________________________________________\n",
      "conv2d_3 (Conv2D)            (None, 16, 16, 128)       36992     \n",
      "_________________________________________________________________\n",
      "conv2d_4 (Conv2D)            (None, 16, 16, 128)       147584    \n",
      "_________________________________________________________________\n",
      "max_pooling2d_2 (MaxPooling2 (None, 8, 8, 128)         0         \n",
      "_________________________________________________________________\n",
      "dropout_2 (Dropout)          (None, 8, 8, 128)         0         \n",
      "_________________________________________________________________\n",
      "conv2d_5 (Conv2D)            (None, 8, 8, 512)         590336    \n",
      "_________________________________________________________________\n",
      "conv2d_6 (Conv2D)            (None, 8, 8, 512)         2359808   \n",
      "_________________________________________________________________\n",
      "max_pooling2d_3 (MaxPooling2 (None, 4, 4, 512)         0         \n",
      "_________________________________________________________________\n",
      "dropout_3 (Dropout)          (None, 4, 4, 512)         0         \n",
      "_________________________________________________________________\n",
      "conv2d_7 (Conv2D)            (None, 4, 4, 512)         262656    \n",
      "_________________________________________________________________\n",
      "dropout_4 (Dropout)          (None, 4, 4, 512)         0         \n",
      "_________________________________________________________________\n",
      "global_average_pooling2d_1 ( (None, 512)               0         \n",
      "_________________________________________________________________\n",
      "dropout_5 (Dropout)          (None, 512)               0         \n",
      "_________________________________________________________________\n",
      "dense_1 (Dense)              (None, 10)                5130      \n",
      "=================================================================\n",
      "Total params: 3,412,650\n",
      "Trainable params: 3,412,650\n",
      "Non-trainable params: 0\n",
      "_________________________________________________________________\n"
     ]
    }
   ],
   "source": [
    "# Build Model\n",
    "from keras.layers import MaxPool2D, Conv2D, Dense, GlobalAveragePooling2D, Flatten, Dropout, BatchNormalization, InputLayer, AveragePooling2D, Activation\n",
    "from keras.models import Sequential\n",
    "\n",
    "\n",
    "NETWORK = 1\n",
    "\n",
    "model = Sequential()\n",
    "model.add(InputLayer(input_shape=(32, 32, 3)))\n",
    "    \n",
    "if NETWORK == 0:\n",
    "    model.add(Conv2D(filters=32, kernel_size=3, strides=1, activation='relu', padding='same'))\n",
    "    model.add(Conv2D(filters=32, kernel_size=3, strides=1, activation='relu', padding='same'))\n",
    "    model.add(MaxPool2D())\n",
    "    model.add(Dropout(rate=0.5))\n",
    "    \n",
    "    model.add(Conv2D(filters=64, kernel_size=3, strides=1, activation='relu', padding='same'))\n",
    "    model.add(Conv2D(filters=64, kernel_size=3, strides=1, activation='relu', padding='same'))\n",
    "    model.add(MaxPool2D())\n",
    "    model.add(Dropout(rate=0.5))\n",
    "    \n",
    "    model.add(Flatten())\n",
    "    model.add(Dense(512, activation='relu'))\n",
    "    model.add(Dropout(rate=0.5))\n",
    "    \n",
    "elif NETWORK == 1:\n",
    "    model.add(Conv2D(filters=32, kernel_size=3, strides=1, activation='relu', padding='same'))\n",
    "    model.add(Conv2D(filters=32, kernel_size=3, strides=1, activation='relu', padding='same'))\n",
    "    model.add(MaxPool2D())\n",
    "    model.add(Dropout(rate=0.5))\n",
    "    \n",
    "    model.add(Conv2D(filters=128, kernel_size=3, strides=1, activation='relu', padding='same'))\n",
    "    model.add(Conv2D(filters=128, kernel_size=3, strides=1, activation='relu', padding='same'))\n",
    "    model.add(MaxPool2D())\n",
    "    model.add(Dropout(rate=0.5))\n",
    "    \n",
    "    model.add(Conv2D(filters=512, kernel_size=3, strides=1, activation='relu', padding='same'))\n",
    "    model.add(Conv2D(filters=512, kernel_size=3, strides=1, activation='relu', padding='same'))\n",
    "    model.add(MaxPool2D())\n",
    "    model.add(Dropout(rate=0.4))\n",
    "    \n",
    "    model.add(Conv2D(filters=512, kernel_size=1, strides=1, activation='relu', padding='same'))\n",
    "    model.add(Dropout(rate=0.3))\n",
    "    \n",
    "    model.add(GlobalAveragePooling2D())\n",
    "    model.add(Dropout(0.4))\n",
    "    \n",
    "model.add(Dense(10, activation='softmax'))\n",
    "\n",
    "from keras.optimizers import RMSprop, Adam, Adamax\n",
    "opt = Adamax()\n",
    "model.compile(optimizer=opt, loss='categorical_crossentropy', metrics=['accuracy'])\n",
    "\n",
    "model.summary()"
   ]
  },
  {
   "cell_type": "code",
   "execution_count": 11,
   "metadata": {
    "scrolled": false
   },
   "outputs": [
    {
     "name": "stdout",
     "output_type": "stream",
     "text": [
      "Epoch 00000: val_loss improved from inf to 2.30265, saving model to saved_models/network1.weights.best.hdf5\n",
      "Epoch 00001: val_loss did not improve\n",
      "Epoch 00002: val_loss improved from 2.30265 to 2.30264, saving model to saved_models/network1.weights.best.hdf5\n",
      "Epoch 00003: val_loss improved from 2.30264 to 2.30263, saving model to saved_models/network1.weights.best.hdf5\n",
      "Epoch 00004: val_loss improved from 2.30263 to 1.60425, saving model to saved_models/network1.weights.best.hdf5\n",
      "Epoch 00005: val_loss improved from 1.60425 to 1.36356, saving model to saved_models/network1.weights.best.hdf5\n",
      "Epoch 00006: val_loss improved from 1.36356 to 1.10773, saving model to saved_models/network1.weights.best.hdf5\n",
      "Epoch 00007: val_loss improved from 1.10773 to 1.00816, saving model to saved_models/network1.weights.best.hdf5\n",
      "Epoch 00008: val_loss did not improve\n",
      "Epoch 00009: val_loss improved from 1.00816 to 0.87536, saving model to saved_models/network1.weights.best.hdf5\n",
      "Epoch 00010: val_loss improved from 0.87536 to 0.71288, saving model to saved_models/network1.weights.best.hdf5\n",
      "Epoch 00011: val_loss did not improve\n",
      "Epoch 00012: val_loss did not improve\n",
      "Epoch 00013: val_loss did not improve\n",
      "Epoch 00014: val_loss improved from 0.71288 to 0.62875, saving model to saved_models/network1.weights.best.hdf5\n",
      "Epoch 00015: val_loss did not improve\n",
      "Epoch 00016: val_loss did not improve\n",
      "Epoch 00017: val_loss improved from 0.62875 to 0.55868, saving model to saved_models/network1.weights.best.hdf5\n",
      "Epoch 00018: val_loss did not improve\n",
      "Epoch 00019: val_loss did not improve\n",
      "Epoch 00020: val_loss did not improve\n",
      "Epoch 00021: val_loss did not improve\n",
      "Epoch 00022: val_loss did not improve\n",
      "Epoch 00023: val_loss did not improve\n"
     ]
    },
    {
     "data": {
      "text/plain": [
       "<keras.callbacks.History at 0x7f65202cf390>"
      ]
     },
     "execution_count": 11,
     "metadata": {},
     "output_type": "execute_result"
    }
   ],
   "source": [
    "from keras.callbacks import ModelCheckpoint, EarlyStopping  \n",
    "\n",
    "epochs = 200\n",
    "\n",
    "checkpointer = ModelCheckpoint(filepath=f'saved_models/network{NETWORK}.weights.best.hdf5', \n",
    "                               verbose=1, save_best_only=True)\n",
    "earlystopper = EarlyStopping(monitor='val_loss', min_delta=0, patience=5, verbose=0, mode='auto')\n",
    "\n",
    "### Train with raw data ###\n",
    "#model.fit(train_X, train_y, \n",
    "#          validation_data=(valid_X, valid_y),\n",
    "#          epochs=epochs, batch_size=20, callbacks=[checkpointer, earlystopper], verbose=0)\n",
    "\n",
    "### Train with augmented data ###\n",
    "model.fit_generator(datagen.flow(train_X, train_y, batch_size=20),\n",
    "                    validation_data=(valid_X, valid_y),\n",
    "                    steps_per_epoch=len(train_X) / 20, epochs=epochs, callbacks=[checkpointer, earlystopper], verbose=0)"
   ]
  },
  {
   "cell_type": "code",
   "execution_count": 1,
   "metadata": {},
   "outputs": [
    {
     "ename": "NameError",
     "evalue": "name 'model' is not defined",
     "output_type": "error",
     "traceback": [
      "\u001b[0;31m---------------------------------------------------------------------------\u001b[0m",
      "\u001b[0;31mNameError\u001b[0m                                 Traceback (most recent call last)",
      "\u001b[0;32m<ipython-input-1-7ecd30ab4086>\u001b[0m in \u001b[0;36m<module>\u001b[0;34m()\u001b[0m\n\u001b[0;32m----> 1\u001b[0;31m \u001b[0mmodel\u001b[0m\u001b[0;34m.\u001b[0m\u001b[0mload_weights\u001b[0m\u001b[0;34m(\u001b[0m\u001b[0;34mf'saved_models/network{NETWORK}.weights.best.hdf5'\u001b[0m\u001b[0;34m)\u001b[0m\u001b[0;34m\u001b[0m\u001b[0m\n\u001b[0m\u001b[1;32m      2\u001b[0m \u001b[0;34m\u001b[0m\u001b[0m\n\u001b[1;32m      3\u001b[0m \u001b[0mtrain_y_hat\u001b[0m \u001b[0;34m=\u001b[0m \u001b[0mmodel\u001b[0m\u001b[0;34m.\u001b[0m\u001b[0mpredict\u001b[0m\u001b[0;34m(\u001b[0m\u001b[0mtrain_X\u001b[0m\u001b[0;34m)\u001b[0m\u001b[0;34m\u001b[0m\u001b[0m\n\u001b[1;32m      4\u001b[0m \u001b[0mprint\u001b[0m\u001b[0;34m(\u001b[0m\u001b[0;34m'Training   Accuracy: {:.4f}%'\u001b[0m\u001b[0;34m.\u001b[0m\u001b[0mformat\u001b[0m\u001b[0;34m(\u001b[0m\u001b[0;36m100\u001b[0m\u001b[0;34m*\u001b[0m\u001b[0mnp\u001b[0m\u001b[0;34m.\u001b[0m\u001b[0mmean\u001b[0m\u001b[0;34m(\u001b[0m\u001b[0mnp\u001b[0m\u001b[0;34m.\u001b[0m\u001b[0margmax\u001b[0m\u001b[0;34m(\u001b[0m\u001b[0mtrain_y_hat\u001b[0m\u001b[0;34m,\u001b[0m \u001b[0maxis\u001b[0m\u001b[0;34m=\u001b[0m\u001b[0;36m1\u001b[0m\u001b[0;34m)\u001b[0m \u001b[0;34m==\u001b[0m \u001b[0mnp\u001b[0m\u001b[0;34m.\u001b[0m\u001b[0margmax\u001b[0m\u001b[0;34m(\u001b[0m\u001b[0mtrain_y\u001b[0m\u001b[0;34m,\u001b[0m \u001b[0maxis\u001b[0m\u001b[0;34m=\u001b[0m\u001b[0;36m1\u001b[0m\u001b[0;34m)\u001b[0m\u001b[0;34m)\u001b[0m\u001b[0;34m)\u001b[0m\u001b[0;34m)\u001b[0m\u001b[0;34m\u001b[0m\u001b[0m\n\u001b[1;32m      5\u001b[0m \u001b[0;34m\u001b[0m\u001b[0m\n",
      "\u001b[0;31mNameError\u001b[0m: name 'model' is not defined"
     ]
    }
   ],
   "source": [
    "model.load_weights(f'saved_models/network{NETWORK}.weights.best.hdf5')\n",
    "\n",
    "train_y_hat = model.predict(train_X)\n",
    "print('Training   Accuracy: {:.4f}%'.format(100*np.mean(np.argmax(train_y_hat, axis=1) == np.argmax(train_y, axis=1))))\n",
    "\n",
    "valid_y_hat = model.predict(valid_X)\n",
    "print('Validation Accuracy: {:.4f}%'.format(100*np.mean(np.argmax(valid_y_hat, axis=1) == np.argmax(valid_y, axis=1))))\n",
    "\n",
    "test_y_hat = model.predict(test_X)\n",
    "print('Test       Accuracy: {:.4f}%'.format(100*np.mean(np.argmax(test_y_hat, axis=1) == np.argmax(test_y, axis=1))))"
   ]
  },
  {
   "cell_type": "code",
   "execution_count": null,
   "metadata": {
    "collapsed": true
   },
   "outputs": [],
   "source": []
  },
  {
   "cell_type": "code",
   "execution_count": 9,
   "metadata": {},
   "outputs": [
    {
     "data": {
      "text/plain": [
       "<matplotlib.image.AxesImage at 0x7f8e725d9e10>"
      ]
     },
     "execution_count": 9,
     "metadata": {},
     "output_type": "execute_result"
    }
   ],
   "source": [
    "import numpy as np\n",
    "import ast\n",
    "import scipy   \n",
    "import matplotlib.pyplot as plt\n",
    "import cv2     \n",
    "from keras.preprocessing import image    \n",
    "from keras.models import Model   \n",
    "import sys\n",
    "\n",
    "def pretrained_path_to_tensor(img_path):\n",
    "    # loads RGB image as PIL.Image.Image type\n",
    "    img = image.load_img(img_path, target_size=(32, 32))\n",
    "    # convert PIL.Image.Image type to 3D tensor with shape (224, 224, 3)\n",
    "    x = image.img_to_array(img)\n",
    "    # convert 3D tensor to 4D tensor with shape (1, 224, 224, 3) and return 4D tensor\n",
    "    x = np.expand_dims(x, axis=0)\n",
    "    # convert RGB -> BGR, subtract mean ImageNet pixel, and return 4D tensor\n",
    "    #return preprocess_input(x)\n",
    "    return x\n",
    "\n",
    "#model, all_amp_layer_weights = get_ResNet()\n",
    "# Get weights\n",
    "last_cnn_layer = -5\n",
    "output_layer = -1\n",
    "new_model = Model(inputs=model.input, outputs=(model.layers[last_cnn_layer].output, model.layers[output_layer].output)) \n",
    "all_amp_layer_weights = model.layers[output_layer].get_weights()[0]\n",
    "\n",
    "\n",
    "#img_path = 'images/ship_dog.jpg'\n",
    "#img_path = 'images/dog_download.png'\n",
    "img_path = 'images/ship_download.png'\n",
    "#img_path = 'images/ship1.png'\n",
    "fig, ax = plt.subplots()\n",
    "\n",
    "# load image, convert BGR --> RGB, resize image to 224 x 224,\n",
    "im = cv2.resize(cv2.cvtColor(cv2.imread(img_path), cv2.COLOR_BGR2RGB), (32, 32))\n",
    "# plot image\n",
    "ax.imshow(im, alpha=0.5)\n",
    "# get class activation map"
   ]
  },
  {
   "cell_type": "code",
   "execution_count": 10,
   "metadata": {
    "collapsed": true
   },
   "outputs": [],
   "source": [
    "# get filtered images from convolutional output + model prediction vector\n",
    "last_conv_output, pred_vec = new_model.predict(pretrained_path_to_tensor(img_path))\n",
    "# change dimensions of last convolutional output to 4 x 4 x 512\n",
    "last_conv_output = np.squeeze(last_conv_output) \n",
    "\n",
    "pred = np.argmax(pred_vec)\n",
    "\n",
    "# bilinear upsampling to resize each filtered image to size of original image \n",
    "mat_for_mult = scipy.ndimage.zoom(last_conv_output, (8, 8, 1), order=1) # dim: 32 x 32 x 512\n",
    "# get AMP layer weights\n",
    "amp_layer_weights = all_amp_layer_weights[:, pred] # dim: (2048,) \n",
    "# get class activation map for object class that is predicted to be in the image\n",
    "CAM = np.dot(mat_for_mult.reshape((32*32, 512)), amp_layer_weights).reshape(32,32) # dim: 224 x 224"
   ]
  },
  {
   "cell_type": "code",
   "execution_count": 11,
   "metadata": {},
   "outputs": [
    {
     "data": {
      "image/png": "[encoded data removed]",
      "text/plain": [
       "<matplotlib.figure.Figure at 0x7f8e837adb00>"
      ]
     },
     "metadata": {},
     "output_type": "display_data"
    },
    {
     "data": {
      "image/png": "[encoded data removed]",
      "text/plain": [
       "<matplotlib.figure.Figure at 0x7f8f0234d1d0>"
      ]
     },
     "metadata": {},
     "output_type": "display_data"
    }
   ],
   "source": [
    "# load image, convert BGR --> RGB, resize image to 224 x 224,\n",
    "im = cv2.resize(cv2.cvtColor(cv2.imread(img_path), cv2.COLOR_BGR2RGB), (32, 32))\n",
    "# plot image\n",
    "ax.imshow(im, alpha=0.5)\n",
    "# get class activation map\n",
    "#CAM, pred = ResNet_CAM(img_path, model, all_amp_layer_weights)\n",
    "# plot class activation map\n",
    "ax.imshow(CAM, cmap='jet', alpha=0.5)\n",
    "\n",
    "# obtain the predicted ImageNet category\n",
    "ax.set_title(classes[pred])  \n",
    "plt.show()"
   ]
  },
  {
   "cell_type": "code",
   "execution_count": 19,
   "metadata": {},
   "outputs": [
    {
     "data": {
      "text/plain": [
       "array([[ 0.,  0.,  0.,  0.,  0.,  0.,  0.,  0.,  1.,  0.]], dtype=float32)"
      ]
     },
     "execution_count": 19,
     "metadata": {},
     "output_type": "execute_result"
    }
   ],
   "source": [
    "pred_vec"
   ]
  },
  {
   "cell_type": "code",
   "execution_count": 15,
   "metadata": {},
   "outputs": [
    {
     "data": {
      "text/plain": [
       "'cat'"
      ]
     },
     "execution_count": 15,
     "metadata": {},
     "output_type": "execute_result"
    }
   ],
   "source": [
    "classes[np.argmax(pred_vec)]"
   ]
  },
  {
   "cell_type": "code",
   "execution_count": 16,
   "metadata": {},
   "outputs": [
    {
     "data": {
      "text/plain": [
       "['airplane',\n",
       " 'automobile',\n",
       " 'bird',\n",
       " 'cat',\n",
       " 'deer',\n",
       " 'dog',\n",
       " 'frog',\n",
       " 'horse',\n",
       " 'ship',\n",
       " 'truck']"
      ]
     },
     "execution_count": 16,
     "metadata": {},
     "output_type": "execute_result"
    }
   ],
   "source": [
    "classes"
   ]
  },
  {
   "cell_type": "code",
   "execution_count": null,
   "metadata": {
    "collapsed": true
   },
   "outputs": [],
   "source": [
    "amp_layer_weights.shape"
   ]
  },
  {
   "cell_type": "code",
   "execution_count": 8,
   "metadata": {},
   "outputs": [
    {
     "data": {
      "text/plain": [
       "<tf.Tensor 'dense_1/Softmax:0' shape=(?, 10) dtype=float32>"
      ]
     },
     "execution_count": 8,
     "metadata": {},
     "output_type": "execute_result"
    }
   ],
   "source": [
    "model.layers[-1].output"
   ]
  },
  {
   "cell_type": "code",
   "execution_count": 17,
   "metadata": {},
   "outputs": [
    {
     "name": "stdout",
     "output_type": "stream",
     "text": [
      "_________________________________________________________________\n",
      "Layer (type)                 Output Shape              Param #   \n",
      "=================================================================\n",
      "input_1 (InputLayer)         (None, 32, 32, 3)         0         \n",
      "_________________________________________________________________\n",
      "conv2d_1 (Conv2D)            (None, 32, 32, 32)        896       \n",
      "_________________________________________________________________\n",
      "conv2d_2 (Conv2D)            (None, 32, 32, 32)        9248      \n",
      "_________________________________________________________________\n",
      "max_pooling2d_1 (MaxPooling2 (None, 16, 16, 32)        0         \n",
      "_________________________________________________________________\n",
      "dropout_1 (Dropout)          (None, 16, 16, 32)        0         \n",
      "_________________________________________________________________\n",
      "conv2d_3 (Conv2D)            (None, 16, 16, 128)       36992     \n",
      "_________________________________________________________________\n",
      "conv2d_4 (Conv2D)            (None, 16, 16, 128)       147584    \n",
      "_________________________________________________________________\n",
      "max_pooling2d_2 (MaxPooling2 (None, 8, 8, 128)         0         \n",
      "_________________________________________________________________\n",
      "dropout_2 (Dropout)          (None, 8, 8, 128)         0         \n",
      "_________________________________________________________________\n",
      "conv2d_5 (Conv2D)            (None, 8, 8, 512)         590336    \n",
      "_________________________________________________________________\n",
      "conv2d_6 (Conv2D)            (None, 8, 8, 512)         2359808   \n",
      "_________________________________________________________________\n",
      "max_pooling2d_3 (MaxPooling2 (None, 4, 4, 512)         0         \n",
      "_________________________________________________________________\n",
      "dropout_3 (Dropout)          (None, 4, 4, 512)         0         \n",
      "_________________________________________________________________\n",
      "conv2d_7 (Conv2D)            (None, 4, 4, 512)         262656    \n",
      "_________________________________________________________________\n",
      "dropout_4 (Dropout)          (None, 4, 4, 512)         0         \n",
      "_________________________________________________________________\n",
      "global_average_pooling2d_1 ( (None, 512)               0         \n",
      "_________________________________________________________________\n",
      "dropout_5 (Dropout)          (None, 512)               0         \n",
      "_________________________________________________________________\n",
      "dense_1 (Dense)              (None, 10)                5130      \n",
      "_________________________________________________________________\n",
      "activation_1 (Activation)    (None, 10)                0         \n",
      "=================================================================\n",
      "Total params: 3,412,650\n",
      "Trainable params: 3,412,650\n",
      "Non-trainable params: 0\n",
      "_________________________________________________________________\n"
     ]
    }
   ],
   "source": [
    "model.summary()"
   ]
  },
  {
   "cell_type": "code",
   "execution_count": null,
   "metadata": {
    "collapsed": true
   },
   "outputs": [],
   "source": []
  },
  {
   "cell_type": "code",
   "execution_count": null,
   "metadata": {
    "collapsed": true
   },
   "outputs": [],
   "source": []
  }
 ],
 "metadata": {
  "kernelspec": {
   "display_name": "Python 3",
   "language": "python",
   "name": "python3"
  },
  "language_info": {
   "codemirror_mode": {
    "name": "ipython",
    "version": 3
   },
   "file_extension": ".py",
   "mimetype": "text/x-python",
   "name": "python",
   "nbconvert_exporter": "python",
   "pygments_lexer": "ipython3",
   "version": "3.6.2"
  }
 },
 "nbformat": 4,
 "nbformat_minor": 2
}
